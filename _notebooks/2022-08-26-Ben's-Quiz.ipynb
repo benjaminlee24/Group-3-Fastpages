{
 "cells": [
  {
   "cell_type": "markdown",
   "metadata": {},
   "source": [
    "# Ben's Gov Quiz\n",
    "> Quiz on the notes from my AP Gov work\n",
    "\n",
    "- toc: true \n",
    "- badges: true\n",
    "- comments: true\n",
    "- categories: [Week 1]\n",
    "- image: images/chart-preview.png"
   ]
  },
  {
   "cell_type": "code",
   "execution_count": 5,
   "metadata": {},
   "outputs": [
    {
     "name": "stdout",
     "output_type": "stream",
     "text": [
      "Hello, benjaminlee running /Library/Developer/CommandLineTools/usr/bin/python3\n",
      "You are going to take a 3 question quiz.\n",
      "Question: Are you ready to take a quiz about media?\n",
      "Question: What is the oldest form of media?\n",
      "print is correct!\n",
      "Question: Which form revolutionized media?\n",
      "internet is correct!\n",
      "Question: What role of the media is responsible for controlling what media goes out?\n",
      "watchdog is incorrect!\n",
      "You got 66%\n"
     ]
    }
   ],
   "source": [
    "import getpass, sys\n",
    "\n",
    "def question_with_response(prompt):\n",
    "    print(\"Question: \" + prompt)\n",
    "    msg = input()\n",
    "    return msg\n",
    "\n",
    "questions = 3\n",
    "correct = 0\n",
    "\n",
    "print('Hello, ' + getpass.getuser() + \" running \" + sys.executable)\n",
    "print(\"You are going to take a \" + str(questions) + \" question quiz.\")\n",
    "question_with_response(\"Are you ready to take a quiz about media?\")\n",
    "\n",
    "rsp = question_with_response(\"What is the oldest form of media?\")\n",
    "if rsp == \"print\":\n",
    "    print(rsp + \" is correct!\")\n",
    "    correct += 1\n",
    "else:\n",
    "    print(rsp + \" is incorrect!\")\n",
    "\n",
    "rsp = question_with_response(\"Which form revolutionized media?\")\n",
    "if rsp == \"internet\":\n",
    "    print(rsp + \" is correct!\")\n",
    "    correct += 1\n",
    "else:\n",
    "    print(rsp + \" is incorrect!\")\n",
    "\n",
    "rsp = question_with_response(\"What role of the media is responsible for controlling what media goes out?\")\n",
    "if rsp == \"gatekeeper\":\n",
    "    print(rsp + \" is correct!\")\n",
    "    correct += 1\n",
    "else:\n",
    "    print(rsp + \" is incorrect!\")\n",
    "Percentage = correct/3\n",
    "print(\"You got \" +str(int(Percentage*100))+\"%\") "
   ]
  }
 ],
 "metadata": {
  "kernelspec": {
   "display_name": "Python 3.8.9 64-bit",
   "language": "python",
   "name": "python3"
  },
  "language_info": {
   "codemirror_mode": {
    "name": "ipython",
    "version": 3
   },
   "file_extension": ".py",
   "mimetype": "text/x-python",
   "name": "python",
   "nbconvert_exporter": "python",
   "pygments_lexer": "ipython3",
   "version": "3.8.9"
  },
  "orig_nbformat": 4,
  "vscode": {
   "interpreter": {
    "hash": "31f2aee4e71d21fbe5cf8b01ff0e069b9275f58929596ceb00d14d90e3e16cd6"
   }
  }
 },
 "nbformat": 4,
 "nbformat_minor": 2
}
