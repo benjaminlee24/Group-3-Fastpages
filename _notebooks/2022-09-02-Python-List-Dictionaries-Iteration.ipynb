{
 "cells": [
  {
   "cell_type": "markdown",
   "metadata": {},
   "source": [
    "# Python List Dictionaries Iteration\n",
    "> My Python List Dictionaries Iteration\n",
    "\n",
    "- toc: true \n",
    "- badges: true\n",
    "- comments: true\n",
    "- categories: [jupyter]\n",
    "- image: images/chart-preview.png"
   ]
  },
  {
   "cell_type": "code",
   "execution_count": 5,
   "metadata": {},
   "outputs": [
    {
     "name": "stdout",
     "output_type": "stream",
     "text": [
      "[{'FirstName': 'Ben', 'LastName': 'Lee', 'DOB': 'January 19', 'Residence': 'San Diego', 'Email': 'bencabrallee@gmail.com', 'Owns_Cars': '2018-Toyota IM', 'Sports': 'Basketball and golf', 'Brothers': ['Nathan and Zachary']}]\n",
      "\n",
      "\n",
      "[{'FirstName': 'Ben', 'LastName': 'Lee', 'DOB': 'January 19', 'Residence': 'San Diego', 'Email': 'bencabrallee@gmail.com', 'Owns_Cars': '2018-Toyota IM', 'Sports': 'Basketball and golf', 'Brothers': ['Nathan and Zachary']}, {'FirstName': 'Nicolas', 'LastName': 'Mosqueda', 'DOB': 'July 19', 'Residence': 'San Diego', 'Email': 'Nicomosqueda02@gmail.com', 'Owns_Cars': ['Nissan']}]\n"
     ]
    }
   ],
   "source": [
    "# Define an empty List called InfoDb\n",
    "InfoDb = []\n",
    "\n",
    "# Append to List a Dictionary of key/values related to a person and cars\n",
    "InfoDb.append({\n",
    "    \"FirstName\": \"Ben\",\n",
    "    \"LastName\": \"Lee\",\n",
    "    \"DOB\": \"January 19\",\n",
    "    \"Residence\": \"San Diego\",\n",
    "    \"Email\": \"bencabrallee@gmail.com\",\n",
    "    \"Owns_Cars\": \"2018-Toyota IM\",\n",
    "    \"Sports\": \"Basketball and golf\",\n",
    "    \"Brothers\": [\"Nathan and Zachary\"]\n",
    "})\n",
    "\n",
    "print(InfoDb)\n",
    "\n",
    "# Append to List a 2nd Dictionary of key/values\n",
    "InfoDb.append({\n",
    "    \"FirstName\": \"Nicolas\",\n",
    "    \"LastName\": \"Mosqueda\",\n",
    "    \"DOB\": \"July 19\",\n",
    "    \"Residence\": \"San Diego\",\n",
    "    \"Email\": \"Nicomosqueda02@gmail.com\",\n",
    "    \"Owns_Cars\": [\"Nissan\"]\n",
    "})\n",
    "\n",
    "print()\n",
    "print()\n",
    "\n",
    "# Print the data structure\n",
    "print(InfoDb)"
   ]
  }
 ],
 "metadata": {
  "kernelspec": {
   "display_name": "Python 3.8.9 64-bit",
   "language": "python",
   "name": "python3"
  },
  "language_info": {
   "codemirror_mode": {
    "name": "ipython",
    "version": 3
   },
   "file_extension": ".py",
   "mimetype": "text/x-python",
   "name": "python",
   "nbconvert_exporter": "python",
   "pygments_lexer": "ipython3",
   "version": "3.8.9"
  },
  "orig_nbformat": 4,
  "vscode": {
   "interpreter": {
    "hash": "31f2aee4e71d21fbe5cf8b01ff0e069b9275f58929596ceb00d14d90e3e16cd6"
   }
  }
 },
 "nbformat": 4,
 "nbformat_minor": 2
}
