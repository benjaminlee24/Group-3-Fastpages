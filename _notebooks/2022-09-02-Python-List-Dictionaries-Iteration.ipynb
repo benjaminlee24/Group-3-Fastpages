{
 "cells": [
  {
   "cell_type": "markdown",
   "metadata": {},
   "source": [
    "# Python List Dictionaries Iteration\n",
    "> My Python List Dictionaries Iteration\n",
    "\n",
    "- toc: true \n",
    "- badges: true\n",
    "- comments: true\n",
    "- categories: [jupyter]\n",
    "- image: images/chart-preview.png"
   ]
  },
  {
   "cell_type": "code",
   "execution_count": 10,
   "metadata": {},
   "outputs": [
    {
     "name": "stdout",
     "output_type": "stream",
     "text": [
      "name Ben Lee <class 'str'>\n",
      "age 17 <class 'int'>\n",
      "score 94.5 <class 'float'>\n",
      "\n",
      "langs ['Python', 'JavaScript', 'Java', 'Bash', 'R'] <class 'list'> length 5\n",
      "- langs[0] Python <class 'str'>\n",
      "\n",
      "person {'name': 'Ben Lee', 'age': 17, 'score': 94.5, 'langs': ['Python', 'JavaScript', 'Java', 'Bash', 'R']} <class 'dict'>\n",
      "- person[\"name\"] Ben Lee <class 'str'>\n"
     ]
    }
   ],
   "source": [
    "name = \"Ben Lee\"\n",
    "print(\"name\", name, type(name))\n",
    "\n",
    "# variable of type integer\n",
    "age = 17\n",
    "print(\"age\", age, type(age))\n",
    "\n",
    "# variable of type float\n",
    "score = 94.5\n",
    "print(\"score\", score, type(score))\n",
    "\n",
    "print()\n",
    "\n",
    "# variable of type list (many values in one variable)\n",
    "langs = [\"Python\", \"JavaScript\", \"Java\", \"Bash\", \"R\"]\n",
    "print(\"langs\", langs, type(langs), \"length\", len(langs))\n",
    "print(\"- langs[0]\", langs[0], type(langs[0]))\n",
    "\n",
    "print()\n",
    "\n",
    "# variable of type dictionary (a group of keys and values)\n",
    "person = {\n",
    "    \"name\": name,\n",
    "    \"age\": age,\n",
    "    \"score\": score,\n",
    "    \"langs\": langs\n",
    "}\n",
    "print(\"person\", person, type(person))\n",
    "print('- person[\"name\"]', person[\"name\"], type(person[\"name\"]))"
   ]
  },
  {
   "cell_type": "code",
   "execution_count": 7,
   "metadata": {},
   "outputs": [
    {
     "name": "stdout",
     "output_type": "stream",
     "text": [
      "[{'FirstName': 'Ben', 'LastName': 'Lee', 'DOB': 'January 19', 'Sports': 'Basketball and golf', 'Email': 'bencabrallee@gmail.com', 'Owns_Cars': ['2018-Toyota IM']}, {'FirstName': 'Nicolas', 'LastName': 'Mosqueda', 'DOB': 'July 19', 'Sports': 'Got cut from baseball team', 'Email': 'nicomosqueda02@gmail.com', 'Owns_Cars': ['Nissan']}]\n"
     ]
    }
   ],
   "source": [
    "# Define an empty List called InfoDb\n",
    "InfoDb = []\n",
    "\n",
    "# InfoDB is a data structure with expected Keys and Values\n",
    "\n",
    "# Append to List a Dictionary of key/values related to a person and cars\n",
    "InfoDb.append({\n",
    "    \"FirstName\": \"Ben\",\n",
    "    \"LastName\": \"Lee\",\n",
    "    \"DOB\": \"January 19\",\n",
    "    \"Sports\": \"Basketball and golf\",\n",
    "    \"Email\": \"bencabrallee@gmail.com\",\n",
    "    \"Owns_Cars\": [\"2018-Toyota IM\"]\n",
    "})\n",
    "\n",
    "# Append to List a 2nd Dictionary of key/values\n",
    "InfoDb.append({\n",
    "    \"FirstName\": \"Nicolas\",\n",
    "    \"LastName\": \"Mosqueda\",\n",
    "    \"DOB\": \"July 19\",\n",
    "    \"Sports\": \"Got cut from baseball team\",\n",
    "    \"Email\": \"nicomosqueda02@gmail.com\",\n",
    "    \"Owns_Cars\": [\"Nissan\"]\n",
    "})\n",
    "\n",
    "# Print the data structure\n",
    "print(InfoDb)"
   ]
  },
  {
   "cell_type": "code",
   "execution_count": 8,
   "metadata": {},
   "outputs": [
    {
     "name": "stdout",
     "output_type": "stream",
     "text": [
      "For loop output\n",
      "\n",
      "Ben Lee\n",
      "\t Sports: Basketball and golf\n",
      "\t Birth Day: January 19\n",
      "\t Cars: 2018-Toyota IM\n",
      "\n",
      "Nicolas Mosqueda\n",
      "\t Sports: Got cut from baseball team\n",
      "\t Birth Day: July 19\n",
      "\t Cars: Nissan\n",
      "\n"
     ]
    }
   ],
   "source": [
    "# print function: given a dictionary of InfoDb content\n",
    "def print_data(d_rec):\n",
    "    print(d_rec[\"FirstName\"], d_rec[\"LastName\"])  # using comma puts space between values\n",
    "    print(\"\\t\", \"Sports:\", d_rec[\"Sports\"]) # \\t is a tab indent\n",
    "    print(\"\\t\", \"Birth Day:\", d_rec[\"DOB\"])\n",
    "    print(\"\\t\", \"Cars: \", end=\"\")  # end=\"\" make sure no return occurs\n",
    "    print(\", \".join(d_rec[\"Owns_Cars\"]))  # join allows printing a string list with separator\n",
    "    print()\n",
    "\n",
    "\n",
    "# for loop algorithm iterates on length of InfoDb\n",
    "def for_loop():\n",
    "    print(\"For loop output\\n\")\n",
    "    for record in InfoDb:\n",
    "        print_data(record)\n",
    "\n",
    "for_loop()"
   ]
  },
  {
   "cell_type": "code",
   "execution_count": 12,
   "metadata": {},
   "outputs": [
    {
     "name": "stdout",
     "output_type": "stream",
     "text": [
      "While loop output\n",
      "\n",
      "Ben Lee\n",
      "\t Sports: Basketball and golf\n",
      "\t Birth Day: January 19\n",
      "\t Cars: 2018-Toyota IM\n",
      "\n",
      "Nicolas Mosqueda\n",
      "\t Sports: Got cut from baseball team\n",
      "\t Birth Day: July 19\n",
      "\t Cars: Nissan\n",
      "\n"
     ]
    }
   ],
   "source": [
    "def while_loop():\n",
    "    print(\"While loop output\\n\")\n",
    "    i = 0\n",
    "    while i < len(InfoDb):\n",
    "        record = InfoDb[i]\n",
    "        print_data(record)\n",
    "        i += 1\n",
    "    return\n",
    "\n",
    "while_loop()"
   ]
  },
  {
   "cell_type": "code",
   "execution_count": 13,
   "metadata": {},
   "outputs": [
    {
     "name": "stdout",
     "output_type": "stream",
     "text": [
      "Recursive loop output\n",
      "\n",
      "Ben Lee\n",
      "\t Sports: Basketball and golf\n",
      "\t Birth Day: January 19\n",
      "\t Cars: 2018-Toyota IM\n",
      "\n",
      "Nicolas Mosqueda\n",
      "\t Sports: Got cut from baseball team\n",
      "\t Birth Day: July 19\n",
      "\t Cars: Nissan\n",
      "\n"
     ]
    }
   ],
   "source": [
    "def recursive_loop(i):\n",
    "    if i < len(InfoDb):\n",
    "        record = InfoDb[i]\n",
    "        print_data(record)\n",
    "        recursive_loop(i + 1)\n",
    "    return\n",
    "    \n",
    "print(\"Recursive loop output\\n\")\n",
    "recursive_loop(0)"
   ]
  }
 ],
 "metadata": {
  "kernelspec": {
   "display_name": "Python 3.8.9 64-bit",
   "language": "python",
   "name": "python3"
  },
  "language_info": {
   "codemirror_mode": {
    "name": "ipython",
    "version": 3
   },
   "file_extension": ".py",
   "mimetype": "text/x-python",
   "name": "python",
   "nbconvert_exporter": "python",
   "pygments_lexer": "ipython3",
   "version": "3.8.9"
  },
  "orig_nbformat": 4,
  "vscode": {
   "interpreter": {
    "hash": "31f2aee4e71d21fbe5cf8b01ff0e069b9275f58929596ceb00d14d90e3e16cd6"
   }
  }
 },
 "nbformat": 4,
 "nbformat_minor": 2
}
