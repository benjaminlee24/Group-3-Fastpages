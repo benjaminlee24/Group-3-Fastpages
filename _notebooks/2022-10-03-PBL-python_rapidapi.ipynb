{
 "cells": [
  {
   "cell_type": "markdown",
   "metadata": {},
   "source": [
    "# Application Programming Interface (API)\n",
    "> APIs can be found all over the internet.  A great consolidator of many APIs is <mark>RapidAPI</mark>.  In this blog we will use a site to consolidates API stats.  Learning a few lines of code and you can start extracting lots of data from the internet via APIs.  \n",
    "- title: Python RapidAPI\n",
    "- toc: true\n",
    "- image: /images/rapidapi.png\n",
    "- permalink: /techtalk/rapidapi\n",
    "- categories: [1.A, 5.B, 5.D]\n",
    "- tags: [api, rapidapi]\n",
    "- type: pbl\n",
    "- week: 7"
   ]
  },
  {
   "cell_type": "markdown",
   "metadata": {},
   "source": [
    "### Python, RapidAPI Terms\n",
    "> APIs and tooling like Jupyter docs allows many opportunities in fields like Data Science.  As more and more developers use APIs, they build standards in how you setup a client, send requests and receive information..."
   ]
  },
  {
   "cell_type": "markdown",
   "metadata": {},
   "source": [
    "### Covid19 RapidAPI Example\n",
    "> To begin the API journey.  You need to find an API provider.  \n",
    "\n",
    "- RapidAPI is a great option.  You must setup and account, but there are many free options.\n",
    "- Goto this page for starters, the [Corona virus World and India data](https://rapidapi.com/spamakashrajtech/api/corona-virus-world-and-india-data/)\n",
    "- Under Code Snippets pick Python - Requests\n",
    "\n",
    "RapidAPI, you will select Python Requests type of code to work with you Notebook.\n",
    "- The url is the endpoint to which the API is directed\n",
    "- The headers is a dictionary data structure to send special messaging to the endpoint \n",
    "- The requests.request() python function is used to send a request and retrieve their responses\n",
    "- The response variable receives result of of the request in JSON text\n",
    "\n",
    "Next step, is to format the response according to your data science needs"
   ]
  },
  {
   "cell_type": "code",
   "execution_count": 3,
   "metadata": {},
   "outputs": [
    {
     "name": "stdout",
     "output_type": "stream",
     "text": [
      "World Totals\n",
      "total_cases 509,268,964\n",
      "new_cases 204,268\n",
      "total_deaths 6,242,509\n",
      "new_deaths 630\n",
      "total_recovered 461,827,849\n",
      "active_cases 41,198,606\n",
      "serious_critical 42,510\n",
      "total_cases_per_1m_population 65,334\n",
      "deaths_per_1m_population 800.9\n",
      "statistic_taken_at 2022-04-24 11:18:01\n",
      "\n",
      "Country Totals\n",
      "country_name USA\n",
      "cases 82,649,779\n",
      "deaths 1,018,316\n",
      "region \n",
      "total_recovered 80,434,925\n",
      "new_deaths 0\n",
      "new_cases 0\n",
      "serious_critical 1,465\n",
      "active_cases 1,196,538\n",
      "total_cases_per_1m_population 247,080\n",
      "deaths_per_1m_population 3,044\n",
      "total_tests 1,000,275,726\n",
      "tests_per_1m_population 2,990,303\n"
     ]
    }
   ],
   "source": [
    "\"\"\"\n",
    "Requests is a HTTP library for the Python programming language. \n",
    "The goal of the project is to make HTTP requests simpler and more human-friendly. \n",
    "\"\"\"\n",
    "import requests\n",
    "\n",
    "\"\"\"\n",
    "RapidAPI is the world's largest API Marketplace. \n",
    "Developers use Rapid API to discover and connect to thousands of APIs. \n",
    "\"\"\"\n",
    "url = \"https://corona-virus-world-and-india-data.p.rapidapi.com/api\"\n",
    "headers = {\n",
    "    'x-rapidapi-key': \"dec069b877msh0d9d0827664078cp1a18fajsn2afac35ae063\",\n",
    "    'x-rapidapi-host': \"corona-virus-world-and-india-data.p.rapidapi.com\"\n",
    "}\n",
    "\n",
    "# Request Covid Data\n",
    "response = requests.request(\"GET\", url, headers=headers)\n",
    "# print(response.text)  # uncomment this line to see raw data\n",
    "\n",
    "# print(response.json())\n",
    "\n",
    "# This code looks for \"world data\"\n",
    "print(\"World Totals\")\n",
    "world = response.json().get('world_total')  # turn response to json() so we can extract \"world_total\"\n",
    "for key, value in world.items():  # this finds key, value pairs in country\n",
    "    print(key, value)\n",
    "\n",
    "print()\n",
    "\n",
    "# This code looks for USA in \"countries_stats\"\n",
    "print(\"Country Totals\")\n",
    "countries = response.json().get('countries_stat')\n",
    "for country in countries:  # countries is a list\n",
    "    if country[\"country_name\"] == \"USA\":  # this filters for USA\n",
    "        for key, value in country.items():  # this finds key, value pairs in country\n",
    "            print(key, value)\n"
   ]
  },
  {
   "cell_type": "markdown",
   "metadata": {},
   "source": [
    "### Digital Coin Example\n",
    "> This example provides digital coin feedback (ie Bitcoin).  It include popularity, price, symbols, etc.\n",
    "- A valid X-RapidAPI-Key is required.  Look in code for link to RapidAPI page\n",
    "- Read all comments in code for further guidance"
   ]
  },
  {
   "cell_type": "code",
   "execution_count": 11,
   "metadata": {},
   "outputs": [
    {
     "name": "stdout",
     "output_type": "stream",
     "text": [
      "[{\"title\":\"File:85F11A8E-6503-4B71-B65C-B67E3EF50378.jpeg\",\"link\":\"https://marvelcinematicuniverse.fandom.com/wiki/File:85F11A8E-6503-4B71-B65C-B67E3EF50378.jpeg\",\"source\":\"fandom\"},{\"title\":\"Agents of S.H.I.E.L.D.: The Chase\",\"link\":\"https://marvelcinematicuniverse.fandom.com/wiki/Agents_of_S.H.I.E.L.D.:_The_Chase\",\"source\":\"fandom\"},{\"title\":\"Ant-Man - Scott Lang: Small Time\",\"link\":\"https://marvelcinematicuniverse.fandom.com/wiki/Ant-Man_-_Scott_Lang:_Small_Time\",\"source\":\"fandom\"},{\"title\":\"Ant-Man and the Wasp Prelude\",\"link\":\"https://marvelcinematicuniverse.fandom.com/wiki/Ant-Man_and_the_Wasp_Prelude\",\"source\":\"fandom\"},{\"title\":\"Ant-Man Prelude\",\"link\":\"https://marvelcinematicuniverse.fandom.com/wiki/Ant-Man_Prelude\",\"source\":\"fandom\"},{\"title\":\"Ant-Man: Larger Than Life\",\"link\":\"https://marvelcinematicuniverse.fandom.com/wiki/Ant-Man:_Larger_Than_Life\",\"source\":\"fandom\"},{\"title\":\"Avengers: Age of Ultron Prelude - This Scepter'd Isle\",\"link\":\"https://marvelcinematicuniverse.fandom.com/wiki/Avengers:_Age_of_Ultron_Prelude_-_This_Scepter%27d_Isle\",\"source\":\"fandom\"},{\"title\":\"Avengers: Age of Ultron: Episode 0\",\"link\":\"https://marvelcinematicuniverse.fandom.com/wiki/Avengers:_Age_of_Ultron:_Episode_0\",\"source\":\"fandom\"},{\"title\":\"Avengers: Endgame Prelude\",\"link\":\"https://marvelcinematicuniverse.fandom.com/wiki/Avengers:_Endgame_Prelude\",\"source\":\"fandom\"},{\"title\":\"Avengers: Infinity War Prelude\",\"link\":\"https://marvelcinematicuniverse.fandom.com/wiki/Avengers:_Infinity_War_Prelude\",\"source\":\"fandom\"},{\"title\":\"Avengers: Operation HYDRA\",\"link\":\"https://marvelcinematicuniverse.fandom.com/wiki/Avengers:_Operation_HYDRA\",\"source\":\"fandom\"},{\"title\":\"Black Panther Prelude\",\"link\":\"https://marvelcinematicuniverse.fandom.com/wiki/Black_Panther_Prelude\",\"source\":\"fandom\"},{\"title\":\"Black Widow Prelude\",\"link\":\"https://marvelcinematicuniverse.fandom.com/wiki/Black_Widow_Prelude\",\"source\":\"fandom\"},{\"title\":\"Captain America & Thor: Avengers!\",\"link\":\"https://marvelcinematicuniverse.fandom.com/wiki/Captain_America_%26_Thor:_Avengers!\",\"source\":\"fandom\"},{\"title\":\"Captain America: Civil War Prelude\",\"link\":\"https://marvelcinematicuniverse.fandom.com/wiki/Captain_America:_Civil_War_Prelude\",\"source\":\"fandom\"},{\"title\":\"Captain America: Civil War Prelude Infinite Comic\",\"link\":\"https://marvelcinematicuniverse.fandom.com/wiki/Captain_America:_Civil_War_Prelude_Infinite_Comic\",\"source\":\"fandom\"},{\"title\":\"Captain America: Evil Lurks Everywhere\",\"link\":\"https://marvelcinematicuniverse.fandom.com/wiki/Captain_America:_Evil_Lurks_Everywhere\",\"source\":\"fandom\"},{\"title\":\"Captain America: First Vengeance\",\"link\":\"https://marvelcinematicuniverse.fandom.com/wiki/Captain_America:_First_Vengeance\",\"source\":\"fandom\"},{\"title\":\"Captain America: Homecoming\",\"link\":\"https://marvelcinematicuniverse.fandom.com/wiki/Captain_America:_Homecoming\",\"source\":\"fandom\"},{\"title\":\"Captain America: Road to War\",\"link\":\"https://marvelcinematicuniverse.fandom.com/wiki/Captain_America:_Road_to_War\",\"source\":\"fandom\"},{\"title\":\"Captain America: The First Avenger Adaptation\",\"link\":\"https://marvelcinematicuniverse.fandom.com/wiki/Captain_America:_The_First_Avenger_Adaptation\",\"source\":\"fandom\"},{\"title\":\"Captain America: The Winter Soldier Infinite Comic\",\"link\":\"https://marvelcinematicuniverse.fandom.com/wiki/Captain_America:_The_Winter_Soldier_Infinite_Comic\",\"source\":\"fandom\"},{\"title\":\"Captain Marvel Prelude\",\"link\":\"https://marvelcinematicuniverse.fandom.com/wiki/Captain_Marvel_Prelude\",\"source\":\"fandom\"},{\"title\":\"Doctor Strange Prelude\",\"link\":\"https://marvelcinematicuniverse.fandom.com/wiki/Doctor_Strange_Prelude\",\"source\":\"fandom\"},{\"title\":\"Doctor Strange Prelude - The Zealot\",\"link\":\"https://marvelcinematicuniverse.fandom.com/wiki/Doctor_Strange_Prelude_-_The_Zealot\",\"source\":\"fandom\"},{\"title\":\"Doctor Strange: Episode 0\",\"link\":\"https://marvelcinematicuniverse.fandom.com/wiki/Doctor_Strange:_Episode_0\",\"source\":\"fandom\"},{\"title\":\"Doctor Strange: Mystic Apprentice\",\"link\":\"https://marvelcinematicuniverse.fandom.com/wiki/Doctor_Strange:_Mystic_Apprentice\",\"source\":\"fandom\"},{\"title\":\"Eternals: The 500 Year War\",\"link\":\"https://marvelcinematicuniverse.fandom.com/wiki/Eternals:_The_500_Year_War\",\"source\":\"fandom\"},{\"title\":\"Guardians of the Galaxy Prelude\",\"link\":\"https://marvelcinematicuniverse.fandom.com/wiki/Guardians_of_the_Galaxy_Prelude\",\"source\":\"fandom\"},{\"title\":\"Guardians of the Galaxy Prequel Infinite Comic\",\"link\":\"https://marvelcinematicuniverse.fandom.com/wiki/Guardians_of_the_Galaxy_Prequel_Infinite_Comic\",\"source\":\"fandom\"},{\"title\":\"Guardians of the Galaxy Vol. 2 Prelude\",\"link\":\"https://marvelcinematicuniverse.fandom.com/wiki/Guardians_of_the_Galaxy_Vol._2_Prelude\",\"source\":\"fandom\"},{\"title\":\"Guardians of the Galaxy: Galaxy's Most Wanted\",\"link\":\"https://marvelcinematicuniverse.fandom.com/wiki/Guardians_of_the_Galaxy:_Galaxy%27s_Most_Wanted\",\"source\":\"fandom\"},{\"title\":\"Iron Man 2 Adaptation\",\"link\":\"https://marvelcinematicuniverse.fandom.com/wiki/Iron_Man_2_Adaptation\",\"source\":\"fandom\"},{\"title\":\"Iron Man 2: Black Widow: Agent of S.H.I.E.L.D.\",\"link\":\"https://marvelcinematicuniverse.fandom.com/wiki/Iron_Man_2:_Black_Widow:_Agent_of_S.H.I.E.L.D.\",\"source\":\"fandom\"},{\"title\":\"Iron Man 2: Fist of Iron\",\"link\":\"https://marvelcinematicuniverse.fandom.com/wiki/Iron_Man_2:_Fist_of_Iron\",\"source\":\"fandom\"},{\"title\":\"Iron Man 2: Nick Fury: Director of S.H.I.E.L.D.\",\"link\":\"https://marvelcinematicuniverse.fandom.com/wiki/Iron_Man_2:_Nick_Fury:_Director_of_S.H.I.E.L.D.\",\"source\":\"fandom\"},{\"title\":\"Iron Man 2: Phil Coulson: Agent of S.H.I.E.L.D.\",\"link\":\"https://marvelcinematicuniverse.fandom.com/wiki/Iron_Man_2:_Phil_Coulson:_Agent_of_S.H.I.E.L.D.\",\"source\":\"fandom\"},{\"title\":\"Iron Man 2: Public Identity\",\"link\":\"https://marvelcinematicuniverse.fandom.com/wiki/Iron_Man_2:_Public_Identity\",\"source\":\"fandom\"},{\"title\":\"Iron Man 2: Security Breach\",\"link\":\"https://marvelcinematicuniverse.fandom.com/wiki/Iron_Man_2:_Security_Breach\",\"source\":\"fandom\"},{\"title\":\"Iron Man 3 Prelude\",\"link\":\"https://marvelcinematicuniverse.fandom.com/wiki/Iron_Man_3_Prelude\",\"source\":\"fandom\"},{\"title\":\"Iron Man Royal Purple Custom Comic\",\"link\":\"https://marvelcinematicuniverse.fandom.com/wiki/Iron_Man_Royal_Purple_Custom_Comic\",\"source\":\"fandom\"},{\"title\":\"Iron Man: Fast Friends\",\"link\":\"https://marvelcinematicuniverse.fandom.com/wiki/Iron_Man:_Fast_Friends\",\"source\":\"fandom\"},{\"title\":\"Iron Man: I Am Iron Man!\",\"link\":\"https://marvelcinematicuniverse.fandom.com/wiki/Iron_Man:_I_Am_Iron_Man!\",\"source\":\"fandom\"},{\"title\":\"Iron Man: Limited Edition\",\"link\":\"https://marvelcinematicuniverse.fandom.com/wiki/Iron_Man:_Limited_Edition\",\"source\":\"fandom\"},{\"title\":\"Iron Man: Security Measures\",\"link\":\"https://marvelcinematicuniverse.fandom.com/wiki/Iron_Man:_Security_Measures\",\"source\":\"fandom\"},{\"title\":\"Iron Man: The Coming of the Melter\",\"link\":\"https://marvelcinematicuniverse.fandom.com/wiki/Iron_Man:_The_Coming_of_the_Melter\",\"source\":\"fandom\"},{\"title\":\"Iron Man: The Price of Doing Business\",\"link\":\"https://marvelcinematicuniverse.fandom.com/wiki/Iron_Man:_The_Price_of_Doing_Business\",\"source\":\"fandom\"},{\"title\":\"Iron Man: Will Online Evils Prevail?\",\"link\":\"https://marvelcinematicuniverse.fandom.com/wiki/Iron_Man:_Will_Online_Evils_Prevail%3F\",\"source\":\"fandom\"},{\"title\":\"Jessica Jones (comic)\",\"link\":\"https://marvelcinematicuniverse.fandom.com/wiki/Jessica_Jones_(comic)\",\"source\":\"fandom\"},{\"title\":\"List of Multiverse Comics\",\"link\":\"https://marvelcinematicuniverse.fandom.com/wiki/List_of_Multiverse_Comics\",\"source\":\"fandom\"},{\"title\":\"Nick Fury: Spies Like Us\",\"link\":\"https://marvelcinematicuniverse.fandom.com/wiki/Nick_Fury:_Spies_Like_Us\",\"source\":\"fandom\"},{\"title\":\"Spider-Man: Far From Home - Got To Hand it To Him\",\"link\":\"https://marvelcinematicuniverse.fandom.com/wiki/Spider-Man:_Far_From_Home_-_Got_To_Hand_it_To_Him\",\"source\":\"fandom\"},{\"title\":\"Spider-Man: Far From Home - Them's The Brakes\",\"link\":\"https://marvelcinematicuniverse.fandom.com/wiki/Spider-Man:_Far_From_Home_-_Them%27s_The_Brakes\",\"source\":\"fandom\"},{\"title\":\"Spider-Man: Far From Home Prelude\",\"link\":\"https://marvelcinematicuniverse.fandom.com/wiki/Spider-Man:_Far_From_Home_Prelude\",\"source\":\"fandom\"},{\"title\":\"Spider-Man: Homecoming Prelude\",\"link\":\"https://marvelcinematicuniverse.fandom.com/wiki/Spider-Man:_Homecoming_Prelude\",\"source\":\"fandom\"},{\"title\":\"Spider-Man: Homecoming: Fight or Flight\",\"link\":\"https://marvelcinematicuniverse.fandom.com/wiki/Spider-Man:_Homecoming:_Fight_or_Flight\",\"source\":\"fandom\"},{\"title\":\"Spider-Man: Homecoming: Morning Rush\",\"link\":\"https://marvelcinematicuniverse.fandom.com/wiki/Spider-Man:_Homecoming:_Morning_Rush\",\"source\":\"fandom\"},{\"title\":\"Spider-Man: Homecoming: School of Shock\",\"link\":\"https://marvelcinematicuniverse.fandom.com/wiki/Spider-Man:_Homecoming:_School_of_Shock\",\"source\":\"fandom\"},{\"title\":\"The Avengers Adaptation\",\"link\":\"https://marvelcinematicuniverse.fandom.com/wiki/The_Avengers_Adaptation\",\"source\":\"fandom\"},{\"title\":\"The Avengers Prelude: Black Widow Strikes\",\"link\":\"https://marvelcinematicuniverse.fandom.com/wiki/The_Avengers_Prelude:_Black_Widow_Strikes\",\"source\":\"fandom\"},{\"title\":\"The Avengers Prelude: Fury's Big Week\",\"link\":\"https://marvelcinematicuniverse.fandom.com/wiki/The_Avengers_Prelude:_Fury%27s_Big_Week\",\"source\":\"fandom\"},{\"title\":\"The Avengers: Iron Man Mark VII\",\"link\":\"https://marvelcinematicuniverse.fandom.com/wiki/The_Avengers:_Iron_Man_Mark_VII\",\"source\":\"fandom\"},{\"title\":\"The Avengers: The Avengers Initiative\",\"link\":\"https://marvelcinematicuniverse.fandom.com/wiki/The_Avengers:_The_Avengers_Initiative\",\"source\":\"fandom\"},{\"title\":\"The Incredible Hulk: The Big Picture\",\"link\":\"https://marvelcinematicuniverse.fandom.com/wiki/The_Incredible_Hulk:_The_Big_Picture\",\"source\":\"fandom\"},{\"title\":\"The Incredible Hulk: The Fury Files\",\"link\":\"https://marvelcinematicuniverse.fandom.com/wiki/The_Incredible_Hulk:_The_Fury_Files\",\"source\":\"fandom\"},{\"title\":\"Thor Adaptation\",\"link\":\"https://marvelcinematicuniverse.fandom.com/wiki/Thor_Adaptation\",\"source\":\"fandom\"},{\"title\":\"Thor, The Mighty Avenger\",\"link\":\"https://marvelcinematicuniverse.fandom.com/wiki/Thor,_The_Mighty_Avenger\",\"source\":\"fandom\"},{\"title\":\"Thor: Crown of Fools\",\"link\":\"https://marvelcinematicuniverse.fandom.com/wiki/Thor:_Crown_of_Fools\",\"source\":\"fandom\"},{\"title\":\"Thor: Ragnarok Prelude\",\"link\":\"https://marvelcinematicuniverse.fandom.com/wiki/Thor:_Ragnarok_Prelude\",\"source\":\"fandom\"},{\"title\":\"Thor: Rescue\",\"link\":\"https://marvelcinematicuniverse.fandom.com/wiki/Thor:_Rescue\",\"source\":\"fandom\"},{\"title\":\"Thor: The Dark World Prelude\",\"link\":\"https://marvelcinematicuniverse.fandom.com/wiki/Thor:_The_Dark_World_Prelude\",\"source\":\"fandom\"}]\n"
     ]
    }
   ],
   "source": [
    "# Request Digital Coin\n",
    "# RapidAPI page https://rapidapi.com/Coinranking/api/coinranking1/\n",
    "\n",
    "# Begin Rapid API Code\n",
    "import requests\n",
    "\n",
    "url = \"https://mcu-comics-and-characters.p.rapidapi.com/mcu/comics\"\n",
    "\n",
    "headers = {\n",
    "\t\"X-RapidAPI-Key\": \"0608f45064msh40e1e6383c4be53p176cf6jsn49eacc437480\",\n",
    "\t\"X-RapidAPI-Host\": \"mcu-comics-and-characters.p.rapidapi.com\"\n",
    "}\n",
    "\n",
    "response = requests.request(\"GET\", url, headers=headers)\n",
    "\n",
    "print(response.text)\n",
    "# End Rapid API Code\n",
    "json = response.json()  # convert response to python json object\n",
    "\n",
    "# Observe data from an API.  This is how data transports over the internet in a \"JSON\" text form\n",
    "# - The JSON \"text\" is formed in dictionary {} and list [] divisions\n",
    "# - To read the result, Data Scientist of  Developer converts JSON into human readable form\n",
    "# - Review the first line, look for the keys --  \"status\" and \"data\""
   ]
  },
  {
   "cell_type": "markdown",
   "metadata": {},
   "source": [
    "### Formatting Digital Coin example\n",
    "> JSON text transferred from the API in the previous cell was converted to a Python Dictionary called json.  The \"coins\" in the dictionary contain a list of the most relevant data.   Look at the code and comments to see how the original text is turned into something understandable.   Additionally, there are error check to make sure we are starting the code with the expectation that the API was run correctly. "
   ]
  },
  {
   "cell_type": "code",
   "execution_count": 3,
   "metadata": {},
   "outputs": [
    {
     "name": "stdout",
     "output_type": "stream",
     "text": [
      "JSON data is Python type: <class 'dict'>\n",
      "Did you insert a valid key in X-RapidAPI-Key of API cell above?\n",
      "{'message': 'You are not subscribed to this API.'}\n"
     ]
    }
   ],
   "source": [
    "\"\"\"\n",
    "This cell is dependent on valid run of API above.\n",
    "- try and except code is making sure \"json\" was properly run above\n",
    "- inside second try is code that is used to process Coin API data\n",
    "\n",
    "Note.  Run this cell repeatedly to format data without re-activating API\n",
    "\"\"\"\n",
    "\n",
    "try:\n",
    "    print(\"JSON data is Python type: \" + str(type(json)))\n",
    "    try:\n",
    "        # Extracting Coins JSON status, if the API worked\n",
    "        status = json.get('status')\n",
    "        print(\"API status: \" + status)\n",
    "        print()\n",
    "        \n",
    "        # Extracting Coins JSON data, data about the coins\n",
    "        data = json.get('data')\n",
    "        \n",
    "        # Procedural abstraction of Print code for coins\n",
    "        def print_coin(c):\n",
    "            print(c[\"symbol\"], c[\"price\"])\n",
    "            print(\"Icon Url: \" + c[\"iconUrl\"])\n",
    "            print(\"Rank Url: \" + c[\"coinrankingUrl\"])\n",
    "\n",
    "        # Coins data was observed to be a list\n",
    "        for coin in data['coins']:\n",
    "            print_coin(coin)\n",
    "            print()\n",
    "            \n",
    "    except:\n",
    "        print(\"Did you insert a valid key in X-RapidAPI-Key of API cell above?\")\n",
    "        print(json)\n",
    "except:\n",
    "    print(\"This cell is dependent on running API call in cell above!\")"
   ]
  },
  {
   "cell_type": "markdown",
   "metadata": {},
   "source": [
    "### Go deeper into APIs\n",
    "> Web Development vs Jupyter Notebook.  A notebook is certainly a great place to start.  But, for your end of Trimester project we want you to build the skill to reference and use APIs within your Project.  Here are some resources to get you started with this journey.\n",
    "\n",
    "- In the Nighthawk Coders APCSP you can find an Overview and Examples using APIs:  [APCSP APIs menu](https://nighthawkcoders.github.io/APCSP/api/overview)\n",
    "- Using Covid RapidAPI\n",
    "    - JavaScript frontend API code in APCSP Fastpages GitHub repo: [https://github.com/nighthawkcoders/APCSP/blob/master/_posts/2022-07-10-PBL-rapidapi.md](https://github.com/nighthawkcoders/APCSP/blob/master/_posts/2022-07-10-PBL-rapidapi.md)\n",
    "- Making a Jokes API (this will next API tech talk)\n",
    "    - Frontend. JavaScript frontend code in APCSP fastpages GitHub repo: [https://github.com/nighthawkcoders/APCSP/blob/master/_posts/2022-07-10-PBL-jokes.md](https://github.com/nighthawkcoders/APCSP/blob/master/_posts/2022-07-10-PBL-jokes.md)\n",
    "    - Backend Endpoints.  Python code that allows Frontend access: [https://github.com/nighthawkcoders/flask_portfolio/blob/main/api.py](https://github.com/nighthawkcoders/flask_portfolio/blob/main/api.py)\n",
    "    - Backend Jokes Management.  Python code that support Create, Read, Update, Delete (CRUD): [https://github.com/nighthawkcoders/flask_portfolio/blob/main/model_jokes.py](https://github.com/nighthawkcoders/flask_portfolio/blob/main/model_jokes.py)"
   ]
  },
  {
   "cell_type": "markdown",
   "metadata": {},
   "source": [
    "## Hacks\n",
    "> Find and use an API as part of your project.  An API and a little coding logic will be a big step toward getting meaningful data for a project.  There are many API providers, find one that might work for your project to complete this hack. When picking an API you are looking for something that will work with either JavaScript Fetch or Python Request.  Here are some samples, these are not qualified in any way.  \n",
    "- [RapidAPI](https://rapidapi.com/collection/list-of-free-apis)\n",
    "- [GitHub Project](https://github.com/public-apis/public-apis/blob/master/README.md)\n",
    "- [No Key APIs Article](https://nordicapis.com/9-free-public-apis-that-offer-up-some-cool-open-data/)\n",
    "- [Twitter Developer](https://developer.twitter.com/en/docs/twitter-api)\n",
    "- [Google Developer](https://developers.google.com/apis-explorer)\n",
    "- [Reddit Developer](https://www.reddit.com/dev/api/)\n",
    "\n",
    "> Show API and format results in either Web Page or Jupyter Notebook.  Ultimately, I will expect that we do APIs in backend (Python/Flask).  However, for this Hack you can pick your preference.  We will discuss pros and cons in next API tech talk."
   ]
  }
 ],
 "metadata": {
  "kernelspec": {
   "display_name": "Python 3.10.6 64-bit",
   "language": "python",
   "name": "python3"
  },
  "language_info": {
   "codemirror_mode": {
    "name": "ipython",
    "version": 3
   },
   "file_extension": ".py",
   "mimetype": "text/x-python",
   "name": "python",
   "nbconvert_exporter": "python",
   "pygments_lexer": "ipython3",
   "version": "3.10.6"
  },
  "orig_nbformat": 4,
  "vscode": {
   "interpreter": {
    "hash": "aee8b7b246df8f9039afb4144a1f6fd8d2ca17a180786b69acc140d282b71a49"
   }
  }
 },
 "nbformat": 4,
 "nbformat_minor": 2
}
