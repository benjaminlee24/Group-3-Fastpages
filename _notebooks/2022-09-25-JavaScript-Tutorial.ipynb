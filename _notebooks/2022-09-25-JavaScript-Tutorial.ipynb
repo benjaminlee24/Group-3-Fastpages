{
 "cells": [
  {
   "cell_type": "markdown",
   "metadata": {},
   "source": [
    "# JavaScript Tutorial\n",
    "> Using Jupyter Notebooks, quickly jump into variables, functions, arrays, JavaScript, and HTML.\n",
    "\n",
    "- toc: true \n",
    "- badges: true\n",
    "- comments: true\n",
    "- categories: [Week 5]\n",
    "- image: images/chart-preview.png"
   ]
  },
  {
   "cell_type": "code",
   "execution_count": 1,
   "metadata": {},
   "outputs": [
    {
     "name": "stdout",
     "output_type": "stream",
     "text": [
      "Hello, Ben!\n"
     ]
    }
   ],
   "source": [
    "console.log(\"Hello, Ben!\")"
   ]
  },
  {
   "cell_type": "code",
   "execution_count": 4,
   "metadata": {},
   "outputs": [
    {
     "name": "stdout",
     "output_type": "stream",
     "text": [
      "Hello, Ben!\n"
     ]
    }
   ],
   "source": [
    "var msg = \"Hello, Ben!\";\n",
    "console.log(msg);"
   ]
  },
  {
   "cell_type": "code",
   "execution_count": 5,
   "metadata": {},
   "outputs": [
    {
     "name": "stdout",
     "output_type": "stream",
     "text": [
      "Hello, Ben!\n"
     ]
    }
   ],
   "source": [
    "function logIt(output) {\n",
    "    console.log(output);\n",
    "}\n",
    "logIt(msg);"
   ]
  },
  {
   "cell_type": "code",
   "execution_count": 7,
   "metadata": {},
   "outputs": [
    {
     "name": "stdout",
     "output_type": "stream",
     "text": [
      "Wassup guys\n",
      "What day is today?\n",
      "2022\n"
     ]
    }
   ],
   "source": [
    "console.log(\"Wassup guys\")\n",
    "logIt(\"What day is today?\");\n",
    "logIt(2022)"
   ]
  },
  {
   "cell_type": "code",
   "execution_count": 8,
   "metadata": {},
   "outputs": [
    {
     "name": "stdout",
     "output_type": "stream",
     "text": [
      "Different types of outputs\n",
      "string ; Wassup\n",
      "number ; 2022\n",
      "object ; [ 1, 2, 3 ]\n"
     ]
    }
   ],
   "source": [
    "function logItType(output) {\n",
    "    console.log(typeof output, \";\", output);\n",
    "}\n",
    "console.log(\"Different types of outputs\")\n",
    "logItType(\"Wassup\"); // String\n",
    "logItType(2022);    // Number\n",
    "logItType([1, 2, 3]);  // Object is generic for this Array, which similar to Python List"
   ]
  },
  {
   "cell_type": "code",
   "execution_count": 17,
   "metadata": {},
   "outputs": [
    {
     "name": "stdout",
     "output_type": "stream",
     "text": [
      "object ; Person { name: 'Ben', age: '17', classOf: 2023, role: 'DevOps' }\n",
      "string ; {\"name\":\"Ben\",\"age\":\"17\",\"classOf\":2023,\"role\":\"DevOps\"}\n"
     ]
    }
   ],
   "source": [
    "// define a function to hold data for a Person\n",
    "function Person(name, age, classOf) {\n",
    "    this.name = name;\n",
    "    this.age = age;\n",
    "    this.classOf = classOf;\n",
    "    this.role = \"\";\n",
    "}\n",
    "\n",
    "// define a setter for role in Person data\n",
    "Person.prototype.setRole = function(role) {\n",
    "    this.role = role;\n",
    "}\n",
    "\n",
    "// define a JSON conversion \"method\" associated with Person\n",
    "Person.prototype.toJSON = function() {\n",
    "    const obj = {name: this.name, age: this.age, classOf: this.classOf, role: this.role};\n",
    "    const json = JSON.stringify(obj);\n",
    "    return json;\n",
    "}\n",
    "\n",
    "// make a new Person and assign to variable devOps\n",
    "var devOps = new Person(\"Ben\", \"17\", 2023);\n",
    "devOps.setRole(\"DevOps\");\n",
    "\n",
    "// output of Object and JSON/string associated with DevOps\n",
    "logItType(devOps);  // object type is easy to work with in JavaScript\n",
    "logItType(devOps.toJSON());  // json/string is useful when passing data on internet"
   ]
  },
  {
   "cell_type": "code",
   "execution_count": 20,
   "metadata": {},
   "outputs": [
    {
     "name": "stdout",
     "output_type": "stream",
     "text": [
      "object ; [ Person { name: 'Ben', age: '17', classOf: 2023, role: 'DevOps' },\n",
      "  Person { name: 'Nicolas', age: '17', classOf: 2023, role: 'Members' },\n",
      "  Person { name: 'Trey', age: '17', classOf: 2023, role: 'Members' },\n",
      "  Person { name: 'Kaylee', age: '17', classOf: 2023, role: 'Members' } ]\n",
      "string ; Ben\n",
      "string ; {\"name\":\"Ben\",\"age\":\"17\",\"classOf\":2023,\"role\":\"DevOps\"}\n",
      "object ; { name: 'Ben', age: '17', classOf: 2023, role: 'DevOps' }\n"
     ]
    }
   ],
   "source": [
    "// define a student Array of Person(s)\n",
    "var members = [ \n",
    "    new Person(\"Nicolas\", \"17\", 2023),\n",
    "    new Person(\"Trey\", \"17\", 2023),\n",
    "    new Person(\"Kaylee\", \"17\", 2023),\n",
    "];\n",
    "\n",
    "// define a classroom and build Classroom objects and json\n",
    "function Group(devOps, members){ // 1 DevOps, many members\n",
    "    // start group with DevOps\n",
    "    devOps.setRole(\"DevOps\");\n",
    "    this.devOps = devOps;\n",
    "    this.group = [devOps];\n",
    "    // add each member to group\n",
    "    this.members = members;\n",
    "    this.members.forEach(members => { members.setRole(\"Members\"); this.group.push(members); });\n",
    "    // build json/string format of group\n",
    "    this.json = [];\n",
    "    this.group.forEach(person => this.json.push(person.toJSON()));\n",
    "}\n",
    "\n",
    "// make a CompSci group from formerly defined teacher and students\n",
    "compsci = new Group(devOps, members);\n",
    "\n",
    "// output of Objects and JSON in CompSci group\n",
    "logItType(compsci.group);  // constructed classroom object\n",
    "logItType(compsci.group[0].name);  // abstract 1st objects name\n",
    "logItType(compsci.json[0]);  // show json conversion of 1st object to string\n",
    "logItType(JSON.parse(compsci.json[0]));  // show JSON.parse inverse of JSON.stringify"
   ]
  },
  {
   "cell_type": "code",
   "execution_count": 21,
   "metadata": {},
   "outputs": [
    {
     "data": {
      "text/html": [
       "<div style='display:inline-block;border: 2px solid grey;box-shadow: 0.8em 0.4em 0.4em grey;'><table><tr><th><mark>Name</mark></th><th><mark>Age</mark></th><th><mark>classOf</mark></th><th><mark>Role</mark></th></tr><tr><td>Ben</td><td>17</td><td>2023</td><td>DevOps</td><tr><tr><td>Nicolas</td><td>17</td><td>2023</td><td>Members</td><tr><tr><td>Trey</td><td>17</td><td>2023</td><td>Members</td><tr><tr><td>Kaylee</td><td>17</td><td>2023</td><td>Members</td><tr></table></div>"
      ]
     },
     "execution_count": 21,
     "metadata": {},
     "output_type": "execute_result"
    }
   ],
   "source": [
    "// define an HTML conversion \"method\" associated with Group\n",
    "Group.prototype._toHtml = function() {\n",
    "    // HTML Style is build using inline structure\n",
    "    var style = (\n",
    "      \"display:inline-block;\" +\n",
    "      \"border: 2px solid grey;\" +\n",
    "      \"box-shadow: 0.8em 0.4em 0.4em grey;\"\n",
    "    );\n",
    "  \n",
    "    // HTML Body of Table is build as a series of concatenations (+=)\n",
    "    var body = \"\";\n",
    "    // Heading for Array Columns\n",
    "    body += \"<tr>\";\n",
    "    body += \"<th><mark>\" + \"Name\" + \"</mark></th>\";\n",
    "    body += \"<th><mark>\" + \"Age\" + \"</mark></th>\";\n",
    "    body += \"<th><mark>\" + \"classOf\" + \"</mark></th>\";\n",
    "    body += \"<th><mark>\" + \"Role\" + \"</mark></th>\";\n",
    "    body += \"</tr>\";\n",
    "    // Data of Array, iterate through each row of compsci.group \n",
    "    for (var row of compsci.group) {\n",
    "      // tr for each row, a new line\n",
    "      body += \"<tr>\";\n",
    "      // td for each column of data\n",
    "      body += \"<td>\" + row.name + \"</td>\";\n",
    "      body += \"<td>\" + row.age + \"</td>\";\n",
    "      body += \"<td>\" + row.classOf + \"</td>\";\n",
    "      body += \"<td>\" + row.role + \"</td>\";\n",
    "      // tr to end line\n",
    "      body += \"<tr>\";\n",
    "    }\n",
    "  \n",
    "     // Build and HTML fragment of div, table, table body\n",
    "    return (\n",
    "      \"<div style='\" + style + \"'>\" +\n",
    "        \"<table>\" +\n",
    "          body +\n",
    "        \"</table>\" +\n",
    "      \"</div>\"\n",
    "    );\n",
    "  \n",
    "  };\n",
    "  \n",
    "  // IJavaScript HTML processor receive parameter of defined HTML fragment\n",
    "  $$.html(compsci._toHtml());"
   ]
  }
 ],
 "metadata": {
  "kernelspec": {
   "display_name": "JavaScript (Node.js)",
   "language": "javascript",
   "name": "javascript"
  },
  "language_info": {
   "file_extension": ".js",
   "mimetype": "application/javascript",
   "name": "javascript",
   "version": "10.13.0"
  },
  "orig_nbformat": 4,
  "vscode": {
   "interpreter": {
    "hash": "31f2aee4e71d21fbe5cf8b01ff0e069b9275f58929596ceb00d14d90e3e16cd6"
   }
  }
 },
 "nbformat": 4,
 "nbformat_minor": 2
}
